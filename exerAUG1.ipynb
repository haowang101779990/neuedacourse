{
 "cells": [
  {
   "cell_type": "code",
   "execution_count": 37,
   "id": "35185389",
   "metadata": {},
   "outputs": [],
   "source": [
    "import numpy as np\n",
    "import pandas as pd\n",
    "import matplotlib.pyplot as plt"
   ]
  },
  {
   "cell_type": "code",
   "execution_count": 38,
   "id": "aa659d88",
   "metadata": {},
   "outputs": [
    {
     "data": {
      "text/html": [
       "<div>\n",
       "<style scoped>\n",
       "    .dataframe tbody tr th:only-of-type {\n",
       "        vertical-align: middle;\n",
       "    }\n",
       "\n",
       "    .dataframe tbody tr th {\n",
       "        vertical-align: top;\n",
       "    }\n",
       "\n",
       "    .dataframe thead th {\n",
       "        text-align: right;\n",
       "    }\n",
       "</style>\n",
       "<table border=\"1\" class=\"dataframe\">\n",
       "  <thead>\n",
       "    <tr style=\"text-align: right;\">\n",
       "      <th></th>\n",
       "      <th>Price</th>\n",
       "      <th>Open</th>\n",
       "      <th>High</th>\n",
       "      <th>Low</th>\n",
       "      <th>Change %</th>\n",
       "    </tr>\n",
       "    <tr>\n",
       "      <th>Date</th>\n",
       "      <th></th>\n",
       "      <th></th>\n",
       "      <th></th>\n",
       "      <th></th>\n",
       "      <th></th>\n",
       "    </tr>\n",
       "  </thead>\n",
       "  <tbody>\n",
       "    <tr>\n",
       "      <th>Dec 29, 2017</th>\n",
       "      <td>2,673.61</td>\n",
       "      <td>2,689.15</td>\n",
       "      <td>2,692.12</td>\n",
       "      <td>2,673.61</td>\n",
       "      <td>-0.52%</td>\n",
       "    </tr>\n",
       "    <tr>\n",
       "      <th>Dec 28, 2017</th>\n",
       "      <td>2,687.54</td>\n",
       "      <td>2,686.10</td>\n",
       "      <td>2,687.66</td>\n",
       "      <td>2,682.69</td>\n",
       "      <td>0.18%</td>\n",
       "    </tr>\n",
       "    <tr>\n",
       "      <th>Dec 27, 2017</th>\n",
       "      <td>2,682.62</td>\n",
       "      <td>2,682.10</td>\n",
       "      <td>2,685.64</td>\n",
       "      <td>2,678.91</td>\n",
       "      <td>0.08%</td>\n",
       "    </tr>\n",
       "  </tbody>\n",
       "</table>\n",
       "</div>"
      ],
      "text/plain": [
       "                 Price      Open      High       Low Change %\n",
       "Date                                                         \n",
       "Dec 29, 2017  2,673.61  2,689.15  2,692.12  2,673.61   -0.52%\n",
       "Dec 28, 2017  2,687.54  2,686.10  2,687.66  2,682.69    0.18%\n",
       "Dec 27, 2017  2,682.62  2,682.10  2,685.64  2,678.91    0.08%"
      ]
     },
     "execution_count": 38,
     "metadata": {},
     "output_type": "execute_result"
    }
   ],
   "source": [
    "# read in some data from an excel file, sheet is called 'MissingData'\n",
    "df_missing = pd.read_csv('SPX.csv',\n",
    "                         index_col='Date')\n",
    "\n",
    "df_missing.head(3)\n"
   ]
  },
  {
   "cell_type": "code",
   "execution_count": null,
   "id": "c6dac405",
   "metadata": {},
   "outputs": [],
   "source": []
  },
  {
   "cell_type": "code",
   "execution_count": 44,
   "id": "3df4a2af",
   "metadata": {},
   "outputs": [],
   "source": [
    "for col in df_missing.columns[:-1]:\n",
    "    #print(col)\n",
    "    #print(df_missing[col])\n",
    "    df_missing[col]=pd.to_numeric(df_missing[col].astype('str').str.replace(',',''))\n",
    "\n",
    "lastcol=df_missing[df_missing.columns[-1]]\n",
    "df_missing[df_missing.columns[-1]]=pd.to_numeric(lastcol.astype('str').str.replace('%',''))"
   ]
  },
  {
   "cell_type": "code",
   "execution_count": 45,
   "id": "ac73471e",
   "metadata": {},
   "outputs": [
    {
     "data": {
      "text/html": [
       "<div>\n",
       "<style scoped>\n",
       "    .dataframe tbody tr th:only-of-type {\n",
       "        vertical-align: middle;\n",
       "    }\n",
       "\n",
       "    .dataframe tbody tr th {\n",
       "        vertical-align: top;\n",
       "    }\n",
       "\n",
       "    .dataframe thead th {\n",
       "        text-align: right;\n",
       "    }\n",
       "</style>\n",
       "<table border=\"1\" class=\"dataframe\">\n",
       "  <thead>\n",
       "    <tr style=\"text-align: right;\">\n",
       "      <th></th>\n",
       "      <th>Price</th>\n",
       "      <th>Open</th>\n",
       "      <th>High</th>\n",
       "      <th>Low</th>\n",
       "      <th>Change %</th>\n",
       "    </tr>\n",
       "    <tr>\n",
       "      <th>Date</th>\n",
       "      <th></th>\n",
       "      <th></th>\n",
       "      <th></th>\n",
       "      <th></th>\n",
       "      <th></th>\n",
       "    </tr>\n",
       "  </thead>\n",
       "  <tbody>\n",
       "    <tr>\n",
       "      <th>Dec 29, 2017</th>\n",
       "      <td>2673.61</td>\n",
       "      <td>2689.15</td>\n",
       "      <td>2692.12</td>\n",
       "      <td>2673.61</td>\n",
       "      <td>-0.52</td>\n",
       "    </tr>\n",
       "    <tr>\n",
       "      <th>Dec 28, 2017</th>\n",
       "      <td>2687.54</td>\n",
       "      <td>2686.10</td>\n",
       "      <td>2687.66</td>\n",
       "      <td>2682.69</td>\n",
       "      <td>0.18</td>\n",
       "    </tr>\n",
       "    <tr>\n",
       "      <th>Dec 27, 2017</th>\n",
       "      <td>2682.62</td>\n",
       "      <td>2682.10</td>\n",
       "      <td>2685.64</td>\n",
       "      <td>2678.91</td>\n",
       "      <td>0.08</td>\n",
       "    </tr>\n",
       "  </tbody>\n",
       "</table>\n",
       "</div>"
      ],
      "text/plain": [
       "                Price     Open     High      Low  Change %\n",
       "Date                                                      \n",
       "Dec 29, 2017  2673.61  2689.15  2692.12  2673.61     -0.52\n",
       "Dec 28, 2017  2687.54  2686.10  2687.66  2682.69      0.18\n",
       "Dec 27, 2017  2682.62  2682.10  2685.64  2678.91      0.08"
      ]
     },
     "execution_count": 45,
     "metadata": {},
     "output_type": "execute_result"
    }
   ],
   "source": [
    "df_missing.head(3)"
   ]
  },
  {
   "cell_type": "code",
   "execution_count": 56,
   "id": "cff51e1f",
   "metadata": {},
   "outputs": [
    {
     "data": {
      "text/html": [
       "<div>\n",
       "<style scoped>\n",
       "    .dataframe tbody tr th:only-of-type {\n",
       "        vertical-align: middle;\n",
       "    }\n",
       "\n",
       "    .dataframe tbody tr th {\n",
       "        vertical-align: top;\n",
       "    }\n",
       "\n",
       "    .dataframe thead th {\n",
       "        text-align: right;\n",
       "    }\n",
       "</style>\n",
       "<table border=\"1\" class=\"dataframe\">\n",
       "  <thead>\n",
       "    <tr style=\"text-align: right;\">\n",
       "      <th></th>\n",
       "      <th>Price</th>\n",
       "      <th>Open</th>\n",
       "      <th>High</th>\n",
       "      <th>Low</th>\n",
       "      <th>Change %</th>\n",
       "    </tr>\n",
       "    <tr>\n",
       "      <th>Date</th>\n",
       "      <th></th>\n",
       "      <th></th>\n",
       "      <th></th>\n",
       "      <th></th>\n",
       "      <th></th>\n",
       "    </tr>\n",
       "  </thead>\n",
       "  <tbody>\n",
       "    <tr>\n",
       "      <th>Apr 01, 2008</th>\n",
       "      <td>1370.18</td>\n",
       "      <td>1326.41</td>\n",
       "      <td>1370.18</td>\n",
       "      <td>1326.41</td>\n",
       "      <td>3.59</td>\n",
       "    </tr>\n",
       "    <tr>\n",
       "      <th>Apr 01, 2009</th>\n",
       "      <td>811.08</td>\n",
       "      <td>793.59</td>\n",
       "      <td>813.62</td>\n",
       "      <td>783.32</td>\n",
       "      <td>1.66</td>\n",
       "    </tr>\n",
       "    <tr>\n",
       "      <th>Apr 01, 2010</th>\n",
       "      <td>1178.10</td>\n",
       "      <td>1171.23</td>\n",
       "      <td>1181.43</td>\n",
       "      <td>1170.69</td>\n",
       "      <td>0.74</td>\n",
       "    </tr>\n",
       "    <tr>\n",
       "      <th>Apr 01, 2011</th>\n",
       "      <td>1332.41</td>\n",
       "      <td>1329.48</td>\n",
       "      <td>1337.85</td>\n",
       "      <td>1328.89</td>\n",
       "      <td>0.50</td>\n",
       "    </tr>\n",
       "    <tr>\n",
       "      <th>Apr 01, 2013</th>\n",
       "      <td>1562.17</td>\n",
       "      <td>1569.18</td>\n",
       "      <td>1570.57</td>\n",
       "      <td>1558.47</td>\n",
       "      <td>-0.45</td>\n",
       "    </tr>\n",
       "    <tr>\n",
       "      <th>...</th>\n",
       "      <td>...</td>\n",
       "      <td>...</td>\n",
       "      <td>...</td>\n",
       "      <td>...</td>\n",
       "      <td>...</td>\n",
       "    </tr>\n",
       "    <tr>\n",
       "      <th>Sep 30, 2011</th>\n",
       "      <td>1131.42</td>\n",
       "      <td>1159.93</td>\n",
       "      <td>1159.93</td>\n",
       "      <td>1131.34</td>\n",
       "      <td>-2.50</td>\n",
       "    </tr>\n",
       "    <tr>\n",
       "      <th>Sep 30, 2013</th>\n",
       "      <td>1681.55</td>\n",
       "      <td>1687.26</td>\n",
       "      <td>1687.26</td>\n",
       "      <td>1674.99</td>\n",
       "      <td>-0.60</td>\n",
       "    </tr>\n",
       "    <tr>\n",
       "      <th>Sep 30, 2014</th>\n",
       "      <td>1972.29</td>\n",
       "      <td>1978.21</td>\n",
       "      <td>1985.17</td>\n",
       "      <td>1968.96</td>\n",
       "      <td>-0.28</td>\n",
       "    </tr>\n",
       "    <tr>\n",
       "      <th>Sep 30, 2015</th>\n",
       "      <td>1920.03</td>\n",
       "      <td>1887.14</td>\n",
       "      <td>1920.53</td>\n",
       "      <td>1887.14</td>\n",
       "      <td>1.91</td>\n",
       "    </tr>\n",
       "    <tr>\n",
       "      <th>Sep 30, 2016</th>\n",
       "      <td>2168.27</td>\n",
       "      <td>2156.51</td>\n",
       "      <td>2175.30</td>\n",
       "      <td>2156.51</td>\n",
       "      <td>0.80</td>\n",
       "    </tr>\n",
       "  </tbody>\n",
       "</table>\n",
       "<p>3017 rows × 5 columns</p>\n",
       "</div>"
      ],
      "text/plain": [
       "                Price     Open     High      Low  Change %\n",
       "Date                                                      \n",
       "Apr 01, 2008  1370.18  1326.41  1370.18  1326.41      3.59\n",
       "Apr 01, 2009   811.08   793.59   813.62   783.32      1.66\n",
       "Apr 01, 2010  1178.10  1171.23  1181.43  1170.69      0.74\n",
       "Apr 01, 2011  1332.41  1329.48  1337.85  1328.89      0.50\n",
       "Apr 01, 2013  1562.17  1569.18  1570.57  1558.47     -0.45\n",
       "...               ...      ...      ...      ...       ...\n",
       "Sep 30, 2011  1131.42  1159.93  1159.93  1131.34     -2.50\n",
       "Sep 30, 2013  1681.55  1687.26  1687.26  1674.99     -0.60\n",
       "Sep 30, 2014  1972.29  1978.21  1985.17  1968.96     -0.28\n",
       "Sep 30, 2015  1920.03  1887.14  1920.53  1887.14      1.91\n",
       "Sep 30, 2016  2168.27  2156.51  2175.30  2156.51      0.80\n",
       "\n",
       "[3017 rows x 5 columns]"
      ]
     },
     "execution_count": 56,
     "metadata": {},
     "output_type": "execute_result"
    }
   ],
   "source": [
    "df_missing.sort_values(by='Date', ascending=True)\n"
   ]
  },
  {
   "cell_type": "code",
   "execution_count": 60,
   "id": "14ed6dd9",
   "metadata": {},
   "outputs": [],
   "source": [
    "df_missing.index=pd.to_datetime(df_missing.index)"
   ]
  },
  {
   "cell_type": "code",
   "execution_count": 64,
   "id": "a8b8fa62",
   "metadata": {},
   "outputs": [
    {
     "data": {
      "text/plain": [
       "<AxesSubplot:xlabel='Date'>"
      ]
     },
     "execution_count": 64,
     "metadata": {},
     "output_type": "execute_result"
    },
    {
     "data": {
      "image/png": "[encoded data removed]",
      "text/plain": [
       "<Figure size 432x288 with 1 Axes>"
      ]
     },
     "metadata": {
      "needs_background": "light"
     },
     "output_type": "display_data"
    }
   ],
   "source": [
    "dfsec1=df_missing[['High','Low']].loc['2015-June-1':'2016-June-1']\n",
    "dfsec1.plot()"
   ]
  },
  {
   "cell_type": "code",
   "execution_count": null,
   "id": "b45e2f6b",
   "metadata": {},
   "outputs": [],
   "source": [
    "\n"
   ]
  },
  {
   "cell_type": "code",
   "execution_count": 68,
   "id": "8f68215f",
   "metadata": {},
   "outputs": [
    {
     "data": {
      "text/html": [
       "<style type=\"text/css\">\n",
       "#T_8247a_row0_col0, #T_8247a_row0_col1, #T_8247a_row0_col2, #T_8247a_row0_col3, #T_8247a_row0_col4 {\n",
       "  background-color: lightblue;\n",
       "}\n",
       "#T_8247a_row1_col0, #T_8247a_row1_col1, #T_8247a_row1_col2, #T_8247a_row1_col3, #T_8247a_row1_col4 {\n",
       "  background-color: pink;\n",
       "}\n",
       "</style>\n",
       "<table id=\"T_8247a\">\n",
       "  <thead>\n",
       "    <tr>\n",
       "      <th class=\"blank level0\" >&nbsp;</th>\n",
       "      <th id=\"T_8247a_level0_col0\" class=\"col_heading level0 col0\" >Price</th>\n",
       "      <th id=\"T_8247a_level0_col1\" class=\"col_heading level0 col1\" >Open</th>\n",
       "      <th id=\"T_8247a_level0_col2\" class=\"col_heading level0 col2\" >High</th>\n",
       "      <th id=\"T_8247a_level0_col3\" class=\"col_heading level0 col3\" >Low</th>\n",
       "      <th id=\"T_8247a_level0_col4\" class=\"col_heading level0 col4\" >Change %</th>\n",
       "    </tr>\n",
       "  </thead>\n",
       "  <tbody>\n",
       "    <tr>\n",
       "      <th id=\"T_8247a_level0_row0\" class=\"row_heading level0 row0\" >min</th>\n",
       "      <td id=\"T_8247a_row0_col0\" class=\"data row0 col0\" >676.530000</td>\n",
       "      <td id=\"T_8247a_row0_col1\" class=\"data row0 col1\" >679.280000</td>\n",
       "      <td id=\"T_8247a_row0_col2\" class=\"data row0 col2\" >695.270000</td>\n",
       "      <td id=\"T_8247a_row0_col3\" class=\"data row0 col3\" >666.790000</td>\n",
       "      <td id=\"T_8247a_row0_col4\" class=\"data row0 col4\" >-9.030000</td>\n",
       "    </tr>\n",
       "    <tr>\n",
       "      <th id=\"T_8247a_level0_row1\" class=\"row_heading level0 row1\" >max</th>\n",
       "      <td id=\"T_8247a_row1_col0\" class=\"data row1 col0\" >2690.160000</td>\n",
       "      <td id=\"T_8247a_row1_col1\" class=\"data row1 col1\" >2692.710000</td>\n",
       "      <td id=\"T_8247a_row1_col2\" class=\"data row1 col2\" >2694.970000</td>\n",
       "      <td id=\"T_8247a_row1_col3\" class=\"data row1 col3\" >2685.920000</td>\n",
       "      <td id=\"T_8247a_row1_col4\" class=\"data row1 col4\" >11.580000</td>\n",
       "    </tr>\n",
       "  </tbody>\n",
       "</table>\n"
      ],
      "text/plain": [
       "<pandas.io.formats.style.Styler at 0x264c1fde070>"
      ]
     },
     "execution_count": 68,
     "metadata": {},
     "output_type": "execute_result"
    }
   ],
   "source": [
    "aggfunc=['min','max']\n",
    "df_missing.agg(aggfunc).style\\\n",
    ".highlight_max(color='pink')\\\n",
    ".highlight_min(color='lightblue')"
   ]
  }
 ],
 "metadata": {
  "kernelspec": {
   "display_name": "py39torch",
   "language": "python",
   "name": "py39torch"
  },
  "language_info": {
   "codemirror_mode": {
    "name": "ipython",
    "version": 3
   },
   "file_extension": ".py",
   "mimetype": "text/x-python",
   "name": "python",
   "nbconvert_exporter": "python",
   "pygments_lexer": "ipython3",
   "version": "3.9.7"
  }
 },
 "nbformat": 4,
 "nbformat_minor": 5
}
